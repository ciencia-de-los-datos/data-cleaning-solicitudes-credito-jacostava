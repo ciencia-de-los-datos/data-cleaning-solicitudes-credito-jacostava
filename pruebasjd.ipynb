{
 "cells": [
  {
   "cell_type": "code",
   "execution_count": 1,
   "metadata": {},
   "outputs": [],
   "source": [
    "import pandas as pd"
   ]
  },
  {
   "cell_type": "code",
   "execution_count": 2,
   "metadata": {},
   "outputs": [
    {
     "name": "stdout",
     "output_type": "stream",
     "text": [
      "<class 'pandas.core.frame.DataFrame'>\n",
      "Int64Index: 10920 entries, 0 to 10919\n",
      "Data columns (total 9 columns):\n",
      " #   Column                  Non-Null Count  Dtype  \n",
      "---  ------                  --------------  -----  \n",
      " 0   sexo                    10920 non-null  object \n",
      " 1   tipo_de_emprendimiento  10818 non-null  object \n",
      " 2   idea_negocio            10920 non-null  object \n",
      " 3   barrio                  10818 non-null  object \n",
      " 4   estrato                 10920 non-null  int64  \n",
      " 5   comuna_ciudadano        10920 non-null  float64\n",
      " 6   fecha_de_beneficio      10920 non-null  object \n",
      " 7   monto_del_credito       10920 non-null  object \n",
      " 8   línea_credito           10920 non-null  object \n",
      "dtypes: float64(1), int64(1), object(7)\n",
      "memory usage: 853.1+ KB\n"
     ]
    }
   ],
   "source": [
    "df = pd.read_csv(\"solicitudes_credito.csv\", sep=\";\")\n",
    "df.rename(columns={'Unnamed: 0':'index'},inplace=True)\n",
    "df.set_index('index',inplace=True)\n",
    "df.info()"
   ]
  },
  {
   "cell_type": "code",
   "execution_count": 3,
   "metadata": {},
   "outputs": [
    {
     "name": "stdout",
     "output_type": "stream",
     "text": [
      "<class 'pandas.core.frame.DataFrame'>\n",
      "Int64Index: 10497 entries, 0 to 10919\n",
      "Data columns (total 9 columns):\n",
      " #   Column                  Non-Null Count  Dtype  \n",
      "---  ------                  --------------  -----  \n",
      " 0   sexo                    10497 non-null  object \n",
      " 1   tipo_de_emprendimiento  10497 non-null  object \n",
      " 2   idea_negocio            10497 non-null  object \n",
      " 3   barrio                  10497 non-null  object \n",
      " 4   estrato                 10497 non-null  int64  \n",
      " 5   comuna_ciudadano        10497 non-null  float64\n",
      " 6   fecha_de_beneficio      10497 non-null  object \n",
      " 7   monto_del_credito       10497 non-null  object \n",
      " 8   línea_credito           10497 non-null  object \n",
      "dtypes: float64(1), int64(1), object(7)\n",
      "memory usage: 820.1+ KB\n"
     ]
    }
   ],
   "source": [
    "#df.dropna().info()\n",
    "#df.drop_duplicates().info()\n",
    "df.drop_duplicates().dropna().info()"
   ]
  },
  {
   "cell_type": "code",
   "execution_count": 4,
   "metadata": {},
   "outputs": [
    {
     "data": {
      "text/plain": [
       "femenino     7050\n",
       "masculino    3870\n",
       "Name: sexo, dtype: int64"
      ]
     },
     "execution_count": 4,
     "metadata": {},
     "output_type": "execute_result"
    }
   ],
   "source": [
    "df.sexo = df.sexo.str.lower().astype(str).str.strip()\n",
    "#df.sexo =df.sexo.str.lower()\n",
    "#df.sexo = df.sexo.astype(\"category\")\n",
    "df.sexo.value_counts()"
   ]
  },
  {
   "cell_type": "code",
   "execution_count": 5,
   "metadata": {},
   "outputs": [
    {
     "data": {
      "text/plain": [
       "comercio        5703\n",
       "servicio        2230\n",
       "industria       2188\n",
       "COMERCIO         230\n",
       "agropecuaria     160\n",
       "INDUSTRIA         92\n",
       "SERVICIO          88\n",
       "Comercio          64\n",
       "Industria         30\n",
       "Servicio          18\n",
       "AGROPECUARIA      11\n",
       "Agropecuaria       4\n",
       "Name: tipo_de_emprendimiento, dtype: int64"
      ]
     },
     "execution_count": 5,
     "metadata": {},
     "output_type": "execute_result"
    }
   ],
   "source": [
    "df.tipo_de_emprendimiento.value_counts()"
   ]
  },
  {
   "cell_type": "code",
   "execution_count": 6,
   "metadata": {},
   "outputs": [
    {
     "data": {
      "text/plain": [
       "Comercio        5997\n",
       "Servicio        2336\n",
       "Industria       2310\n",
       "Agropecuaria     175\n",
       "Name: tipo_de_emprendimiento, dtype: int64"
      ]
     },
     "execution_count": 6,
     "metadata": {},
     "output_type": "execute_result"
    }
   ],
   "source": [
    "#ojo tiene valores nulos\n",
    "df.tipo_de_emprendimiento = df.tipo_de_emprendimiento.str.capitalize().str.strip()\n",
    "df.tipo_de_emprendimiento.value_counts()"
   ]
  },
  {
   "cell_type": "code",
   "execution_count": 7,
   "metadata": {},
   "outputs": [
    {
     "data": {
      "text/plain": [
       "array(['charcuteria', 'distribuidora de ', 'tienda', 'organización y ',\n",
       "       'COMIDAS RAPIDAS', 'comidas rapidas', 'PELUQUERIA', 'granero',\n",
       "       'cafeteria', 'fabrica de ', 'peluqueria', 'variedades',\n",
       "       'restaurante', 'recreativo-educativo', 'Variedades', 'FABRICA DE ',\n",
       "       'almacen de ropa en ', 'cafe e internet', 'miscelanea',\n",
       "       'cerrajeria', 'fabrica de helados', 'fabrica-de-',\n",
       "       'fabrica de alimentos', 'Fabrica De ', 'mantenimiento en ',\n",
       "       'tienda de helados', 'ferreteria', 'Drogueria', 'papeleria',\n",
       "       'almacen_de_ropa_en_', 'productos de belleza', 'Licorera',\n",
       "       'Tienda', 'TIENDA', 'CRIADERO_DE_ANIMALES_', 'servicios ',\n",
       "       'fabrica de calzado', 'fabrica de productos ',\n",
       "       'fabrica-de-productos-', 'PAPELERIA', 'taller de mecanica',\n",
       "       'distribuidora-de-', 'criadero de animales ', 'publicidad y ',\n",
       "       'drogueria', 'comidas-rapidas', 'mantenimiento_en_', 'barberia',\n",
       "       'sembrados', 'deposito de ', 'carniceria', 'fabrica_de_',\n",
       "       'Productos De Belleza', 'legumbreria', 'carpinteria',\n",
       "       'fabrica de muebles', 'venta de repuestos',\n",
       "       'fabrica de repuestos ', 'Ferreteria', 'panaderia', 'licorera',\n",
       "       'Venta De Calzado', 'FERRETERIA', 'bares', 'almacen-de-ropa-en-',\n",
       "       'VENTA DE LACTEOS', 'distribuidora_de_', 'fabrica de colchones',\n",
       "       'ALMACEN_DE_ROPA_EN_', 'taller de electronica', 'comidas_rapidas',\n",
       "       'joyeria', 'Peluqueria', 'viveros_', 'CRIADERO DE ANIMALES ',\n",
       "       'fabrica_de_productos_', 'venta de pollos', 'fabrica-de-helados',\n",
       "       'VARIEDADES', 'venta de calzado', 'lavanderia', 'tienda naturista',\n",
       "       'Lavanderia', 'fabrica de juegos ', 'TIENDA NATURISTA',\n",
       "       'tienda-de-helados', 'Almacen De Ropa En ', 'ALMACEN DE ROPA EN ',\n",
       "       'DROGUERIA', 'marqueteria', 'alquiler de peliculas', 'fotografia',\n",
       "       'Miscelanea', 'cafe_e_internet', 'billares', 'marroquineria',\n",
       "       'fabrica-de-alimentos', 'taller-de-mecanica', 'fabrica de arepas',\n",
       "       'ebanistaria', 'Tienda-Naturista', 'productos_de_mar',\n",
       "       'venta de lacteos', 'SEMBRADOS', 'fabrica de traperos',\n",
       "       'TALLER DE ELECTRONICA', 'fabrica de velas', 'Mantenimiento En ',\n",
       "       'reciclaje', 'fabrica_de_calzado', 'Comidas_Rapidas',\n",
       "       'montallantas', 'fabrica-de-calzado', 'PANADERIA', 'floristeria',\n",
       "       'Taller De Mecanica', 'publicidad-y-', 'productos_de_belleza',\n",
       "       'Papeleria', 'FABRICA DE HELADOS', 'Comidas Rapidas',\n",
       "       'Distribuidora De ', 'Cafe E Internet', 'Recreativo-Educativo',\n",
       "       'productos de mar', 'TALLER DE MECANICA', 'Fabrica De Alimentos',\n",
       "       'FABRICA DE PRODUCTOS ', 'FABRICA DE ALIMENTOS',\n",
       "       'RECREATIVO-EDUCATIVO', 'Panaderia', 'taller_de_mecanica',\n",
       "       'MENSAJERIA', 'fabrica_de_repuestos_', 'LEGUMBRERIA',\n",
       "       'MARQUETERIA', 'Barberia', 'CAFETERIA', 'mantenimiento-en-',\n",
       "       'Fabrica De Helados', 'MANTENIMIENTO EN ', 'Publicidad Y ',\n",
       "       'criadero-de-animales-', 'MISCELANEA', 'fabrica_de_alimentos',\n",
       "       'FABRICA DE REPUESTOS ', 'BARBERIA', 'COMIDAS_RAPIDAS',\n",
       "       'Criadero De Animales ', 'Restaurante', 'Cafeteria',\n",
       "       'TALLER_DE_MECANICA', 'CERRAJERIA', 'venta de ', 'Floristeria',\n",
       "       'RESTAURANTE', 'Fabrica De Juegos ', 'ORGANIZACIÓN Y ',\n",
       "       'JARDINERIA', 'gimnasio', 'DISTRIBUIDORA-DE-', 'tienda_de_helados',\n",
       "       'Carniceria', 'FABRICA-DE-CALZADO', 'PRODUCTOS DE BELLEZA',\n",
       "       'venta_de_repuestos', 'Fabrica De Muebles', 'jardineria',\n",
       "       'CAFE E INTERNET', 'deposito-de-', 'fabrica de ceramica',\n",
       "       'Almacen_De_Ropa_En_', 'Bares', 'viveros ', 'Charcuteria',\n",
       "       'lavadero de ', 'DISTRIBUIDORA DE ', 'Fabrica_De_Arepas',\n",
       "       'FABRICA DE JUEGOS ', 'mensajeria', 'Organización-Y-',\n",
       "       'FABRICA DE CALZADO', 'TIENDA DE HELADOS', 'lavadero-de-',\n",
       "       'Joyeria', 'Fabrica-De-', 'Ebanistaria', 'TIENDA_DE_HELADOS',\n",
       "       'FABRICA_DE_', 'fumigacion', 'FABRICA DE AREPAS',\n",
       "       'FABRICA DE MUEBLES', 'FLORISTERIA', 'fabrica-de-muebles',\n",
       "       'venta_de_lacteos', 'Fabrica De Calzado', 'EBANISTARIA',\n",
       "       'MANTENIMIENTO-EN-', 'Organización Y ', 'BARES', 'ORGANIZACIÓN-Y-',\n",
       "       'Legumbreria', 'GIMNASIO', 'fabrica_de_arepas',\n",
       "       'Fabrica De Repuestos ', 'MONTALLANTAS', 'lenceria para el ',\n",
       "       'VENTA DE REPUESTOS', 'Fabrica_De_', 'Servicios ',\n",
       "       'hoteles-moteles-', 'Fabrica De Productos ', 'publicidad_y_',\n",
       "       'Taller De Electronica', 'cafe-e-internet', 'Tienda_De_Helados',\n",
       "       'ALMACEN-DE-ROPA-EN-', 'JOYERIA', 'Gimnasio', 'fabrica_de_muebles',\n",
       "       'FABRICA-DE-', 'MARROQUINERIA', 'Deposito De ', 'FOTOGRAFIA',\n",
       "       'pañalera', 'Cafe-E-Internet', 'PUBLICIDAD Y ', 'BILLARES',\n",
       "       'Criadero_De_Animales_', 'Sembrados', 'FABRICA_DE_CALZADO',\n",
       "       'tienda-naturista', 'Cerrajeria', 'Viveros ', 'venta-de-pollos',\n",
       "       'TALLER-DE-MECANICA', 'deposito_de_', 'Fabrica-De-Calzado',\n",
       "       'Tienda De Helados', 'servicios_', 'Fabrica De Arepas',\n",
       "       'VENTA DE CALZADO', 'productos-de-belleza', 'CARNICERIA',\n",
       "       'organización_y_'], dtype=object)"
      ]
     },
     "execution_count": 7,
     "metadata": {},
     "output_type": "execute_result"
    }
   ],
   "source": [
    "df.idea_negocio.unique()"
   ]
  },
  {
   "cell_type": "code",
   "execution_count": 8,
   "metadata": {},
   "outputs": [
    {
     "data": {
      "text/plain": [
       "Fabrica de               1962\n",
       "Variedades               1801\n",
       "Tienda                   1065\n",
       "Comidas rapidas          1028\n",
       "Peluqueria                619\n",
       "                         ... \n",
       "Alquiler de peliculas       5\n",
       "Lenceria para el            5\n",
       "Venta de                    4\n",
       "Fabrica de traperos         3\n",
       "Pañalera                    2\n",
       "Name: idea_negocio, Length: 75, dtype: int64"
      ]
     },
     "execution_count": 8,
     "metadata": {},
     "output_type": "execute_result"
    }
   ],
   "source": [
    "df.idea_negocio=df.idea_negocio.str.replace('-',' ', regex=False).str.replace('_',' ', regex=False).str.capitalize().str.strip()\n",
    "df.idea_negocio.value_counts()"
   ]
  },
  {
   "cell_type": "code",
   "execution_count": 9,
   "metadata": {},
   "outputs": [
    {
     "data": {
      "text/plain": [
       "Robledo                   1056\n",
       "Manrique central no. 1     514\n",
       "San javier no.1            453\n",
       "Aranjuez                   411\n",
       "Belen                      403\n",
       "                          ... \n",
       "Brasilia                     1\n",
       "Barrio colombia              1\n",
       "San isidro                   1\n",
       "Villa liliam                 1\n",
       "Los angeles                  1\n",
       "Name: barrio, Length: 223, dtype: int64"
      ]
     },
     "execution_count": 9,
     "metadata": {},
     "output_type": "execute_result"
    }
   ],
   "source": [
    "df.barrio = df.barrio.str.replace('-',' ', regex=False).str.replace('_',' ', regex=False).str.capitalize().str.strip()\n",
    "df.barrio.value_counts()"
   ]
  },
  {
   "cell_type": "code",
   "execution_count": 10,
   "metadata": {},
   "outputs": [
    {
     "data": {
      "text/plain": [
       "index\n",
       "6148     13 de noviembre\n",
       "2205     13 de noviembre\n",
       "3039     13 de noviembre\n",
       "6321     13 de noviembre\n",
       "9307     13 de noviembre\n",
       "              ...       \n",
       "10450                NaN\n",
       "10558                NaN\n",
       "10675                NaN\n",
       "10697                NaN\n",
       "10705                NaN\n",
       "Name: barrio, Length: 10920, dtype: object"
      ]
     },
     "execution_count": 10,
     "metadata": {},
     "output_type": "execute_result"
    }
   ],
   "source": [
    "df.barrio.sort_values()"
   ]
  },
  {
   "cell_type": "code",
   "execution_count": 11,
   "metadata": {},
   "outputs": [
    {
     "data": {
      "text/plain": [
       "2    5384\n",
       "3    3358\n",
       "1    2175\n",
       "0       3\n",
       "Name: estrato, dtype: int64"
      ]
     },
     "execution_count": 11,
     "metadata": {},
     "output_type": "execute_result"
    }
   ],
   "source": [
    "df.estrato = df.estrato.astype(\"str\").str.capitalize()\n",
    "df.estrato.value_counts()"
   ]
  },
  {
   "cell_type": "code",
   "execution_count": 12,
   "metadata": {},
   "outputs": [
    {
     "data": {
      "text/plain": [
       "4.0     1424\n",
       "7.0     1215\n",
       "9.0     1026\n",
       "1.0      896\n",
       "13.0     887\n",
       "8.0      776\n",
       "5.0      700\n",
       "2.0      680\n",
       "3.0      623\n",
       "6.0      605\n",
       "16.0     462\n",
       "60.0     427\n",
       "10.0     308\n",
       "80.0     285\n",
       "12.0     245\n",
       "15.0     206\n",
       "90.0      68\n",
       "70.0      33\n",
       "50.0      29\n",
       "14.0      15\n",
       "11.0      10\n",
       "Name: comuna_ciudadano, dtype: int64"
      ]
     },
     "execution_count": 12,
     "metadata": {},
     "output_type": "execute_result"
    }
   ],
   "source": [
    "df.comuna_ciudadano = df.comuna_ciudadano.astype(str).str.capitalize()\n",
    "df.comuna_ciudadano.value_counts()"
   ]
  },
  {
   "cell_type": "code",
   "execution_count": 13,
   "metadata": {},
   "outputs": [
    {
     "data": {
      "text/plain": [
       "2018-10-03    65\n",
       "2018-10-11    64\n",
       "2018-09-14    43\n",
       "2018-07-05    43\n",
       "2018-10-26    42\n",
       "              ..\n",
       "2016-09-17     1\n",
       "2017-08-05     1\n",
       "2019-01-02     1\n",
       "2016-01-27     1\n",
       "2016-01-05     1\n",
       "Name: fecha_de_beneficio, Length: 795, dtype: int64"
      ]
     },
     "execution_count": 13,
     "metadata": {},
     "output_type": "execute_result"
    }
   ],
   "source": [
    "df.fecha_de_beneficio = pd.to_datetime(df[\"fecha_de_beneficio\"], dayfirst = True)\n",
    "df.fecha_de_beneficio.value_counts()"
   ]
  },
  {
   "cell_type": "code",
   "execution_count": 14,
   "metadata": {},
   "outputs": [
    {
     "data": {
      "text/plain": [
       "7800000.0     1243\n",
       "5000000.0     1125\n",
       "7000000.0     1111\n",
       "6000000.0     1016\n",
       "4000000.0      813\n",
       "              ... \n",
       "6440000.0        1\n",
       "730000.0         1\n",
       "82000000.0       1\n",
       "7250000.0        1\n",
       "251102.0         1\n",
       "Name: monto_del_credito, Length: 277, dtype: int64"
      ]
     },
     "execution_count": 14,
     "metadata": {},
     "output_type": "execute_result"
    }
   ],
   "source": [
    "df.monto_del_credito = df.monto_del_credito.str.replace(\",\",\"\",regex=True).str.replace(\"$\",\"\",regex=True).str.strip()\n",
    "df.monto_del_credito = df.monto_del_credito.astype(float)\n",
    "df.monto_del_credito.value_counts()"
   ]
  },
  {
   "cell_type": "code",
   "execution_count": 15,
   "metadata": {},
   "outputs": [
    {
     "data": {
      "text/plain": [
       "Microempresarial          10721\n",
       "Empresarial ed.              75\n",
       "Agropecuaria                 58\n",
       "Juridica y cap.semilla       35\n",
       "Credioportuno                23\n",
       "Fomento agropecuario          5\n",
       "Solidaria                     1\n",
       "Soli diaria                   1\n",
       "Ayacucho formal               1\n",
       "Name: línea_credito, dtype: int64"
      ]
     },
     "execution_count": 15,
     "metadata": {},
     "output_type": "execute_result"
    }
   ],
   "source": [
    "df.línea_credito=df.línea_credito.str.replace('-',' ', regex=False).str.replace('_',' ', regex=False).str.capitalize().str.strip()\n",
    "df.línea_credito.value_counts()"
   ]
  },
  {
   "cell_type": "code",
   "execution_count": 16,
   "metadata": {},
   "outputs": [
    {
     "name": "stdout",
     "output_type": "stream",
     "text": [
      "<class 'pandas.core.frame.DataFrame'>\n",
      "Int64Index: 10920 entries, 0 to 10919\n",
      "Data columns (total 9 columns):\n",
      " #   Column                  Non-Null Count  Dtype         \n",
      "---  ------                  --------------  -----         \n",
      " 0   sexo                    10920 non-null  object        \n",
      " 1   tipo_de_emprendimiento  10818 non-null  object        \n",
      " 2   idea_negocio            10920 non-null  object        \n",
      " 3   barrio                  10818 non-null  object        \n",
      " 4   estrato                 10920 non-null  object        \n",
      " 5   comuna_ciudadano        10920 non-null  object        \n",
      " 6   fecha_de_beneficio      10920 non-null  datetime64[ns]\n",
      " 7   monto_del_credito       10920 non-null  float64       \n",
      " 8   línea_credito           10920 non-null  object        \n",
      "dtypes: datetime64[ns](1), float64(1), object(7)\n",
      "memory usage: 853.1+ KB\n"
     ]
    }
   ],
   "source": [
    "df.info()"
   ]
  },
  {
   "cell_type": "code",
   "execution_count": 17,
   "metadata": {},
   "outputs": [
    {
     "name": "stdout",
     "output_type": "stream",
     "text": [
      "<class 'pandas.core.frame.DataFrame'>\n",
      "Int64Index: 10206 entries, 0 to 10919\n",
      "Data columns (total 9 columns):\n",
      " #   Column                  Non-Null Count  Dtype         \n",
      "---  ------                  --------------  -----         \n",
      " 0   sexo                    10206 non-null  object        \n",
      " 1   tipo_de_emprendimiento  10206 non-null  object        \n",
      " 2   idea_negocio            10206 non-null  object        \n",
      " 3   barrio                  10206 non-null  object        \n",
      " 4   estrato                 10206 non-null  object        \n",
      " 5   comuna_ciudadano        10206 non-null  object        \n",
      " 6   fecha_de_beneficio      10206 non-null  datetime64[ns]\n",
      " 7   monto_del_credito       10206 non-null  float64       \n",
      " 8   línea_credito           10206 non-null  object        \n",
      "dtypes: datetime64[ns](1), float64(1), object(7)\n",
      "memory usage: 797.3+ KB\n"
     ]
    }
   ],
   "source": [
    "df.dropna(inplace=True)\n",
    "df.drop_duplicates(inplace=True)\n",
    "#df.drop_duplicates(inplace=True).dropna(inplace=True)\n",
    "df.info()"
   ]
  },
  {
   "cell_type": "code",
   "execution_count": 18,
   "metadata": {},
   "outputs": [
    {
     "data": {
      "text/plain": [
       "Robledo                   990\n",
       "Manrique central no. 1    483\n",
       "San javier no.1           423\n",
       "Aranjuez                  383\n",
       "Belen                     376\n",
       "                         ... \n",
       "La hondonada                1\n",
       "La aldea                    1\n",
       "Las independencias          1\n",
       "Oriente                     1\n",
       "Los angeles                 1\n",
       "Name: barrio, Length: 223, dtype: int64"
      ]
     },
     "execution_count": 18,
     "metadata": {},
     "output_type": "execute_result"
    }
   ],
   "source": [
    "df.barrio.value_counts()"
   ]
  }
 ],
 "metadata": {
  "kernelspec": {
   "display_name": "Python 3",
   "language": "python",
   "name": "python3"
  },
  "language_info": {
   "codemirror_mode": {
    "name": "ipython",
    "version": 3
   },
   "file_extension": ".py",
   "mimetype": "text/x-python",
   "name": "python",
   "nbconvert_exporter": "python",
   "pygments_lexer": "ipython3",
   "version": "3.9.13"
  },
  "orig_nbformat": 4
 },
 "nbformat": 4,
 "nbformat_minor": 2
}
